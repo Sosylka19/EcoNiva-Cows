{
 "cells": [
  {
   "cell_type": "markdown",
   "id": "942a324d",
   "metadata": {},
   "source": [
    "импорты"
   ]
  },
  {
   "cell_type": "code",
   "execution_count": 227,
   "id": "69a868ad",
   "metadata": {},
   "outputs": [],
   "source": [
    "import pandas as pd\n",
    "import numpy as np\n",
    "import camelot\n",
    "import os\n",
    "import re\n",
    "import json\n",
    "import gc\n",
    "import time\n",
    "import shutil\n",
    "import pathlib\n",
    "\n",
    "\n"
   ]
  },
  {
   "cell_type": "markdown",
   "id": "196d58ae",
   "metadata": {},
   "source": [
    "## Тут мы написали функции препроцессинга"
   ]
  },
  {
   "cell_type": "code",
   "execution_count": null,
   "id": "391f1738",
   "metadata": {},
   "outputs": [],
   "source": [
    "def preprocessor(table: pd.DataFrame) -> dict[str, pd.DataFrame]:\n",
    "    \"\"\"\n",
    "    Preprocess table\n",
    "    \"\"\"\n",
    "    table_name = table.iloc[0]\n",
    "    table_columns = table.iloc[1]\n",
    "    table.columns = table_columns\n",
    "    table.columns.name = None\n",
    "    table = table.drop(index=[0, 1])\n",
    "    table = table.reset_index(drop=True)\n",
    "    return {str(table_name): pd.DataFrame(table)}"
   ]
  },
  {
   "cell_type": "code",
   "execution_count": 229,
   "id": "5de362c6",
   "metadata": {},
   "outputs": [],
   "source": [
    "RE_DATE = re.compile(r\"\\b\\d{1,2}[./-]\\d{1,2}[./-]\\d{2,4}\\b\")\n",
    "RE_LONG_CODE = re.compile(r\"\\b(?:\\d{1,4}\\.){2,}\\d{1,4}\\b\") \n",
    "RE_YEAR = re.compile(r\"\\b(19|20)\\d{2}\\b\")\n",
    "RE_TRAIL_DOTNUM = re.compile(r\"(?<=\\s)[\\.\\-]\\d{1,3}\\b\")    \n",
    "RE_PERCENT_TAIL = re.compile(r\"\\d+\\s?%.*$\")                \n",
    "RE_MULTI_SPACE = re.compile(r\"\\s+\")\n",
    "RE_SP_BEFORE_PUNCT = re.compile(r\"\\s+([,.;:])\")\n",
    "RE_PUNCT_DUP = re.compile(r\"[,.]{2,}\")\n",
    "\n",
    "TAILKEYS = r\"(суха[яй]|мелк|помол|сечк|ток\\d*|гранул|экструд|смесь|мешан|энпкх|энанпкх|энапкх|эн|энк)\"\n",
    "RE_TAIL_AFTER_COMMA = re.compile(rf\",\\s*.*?(?=($|\\b))\", re.IGNORECASE)\n",
    "RE_TAILKEYS_AFTER_COMMA = re.compile(rf\",\\s*(?={TAILKEYS})[^\\n]*\", re.IGNORECASE)"
   ]
  },
  {
   "cell_type": "code",
   "execution_count": 230,
   "id": "805df034",
   "metadata": {},
   "outputs": [],
   "source": [
    "def clean_ingredient(s: str) -> str:\n",
    "    \"\"\"\n",
    "    Clear ingredients with regulat expressions\n",
    "    \"\"\"\n",
    "    if not isinstance(s, str):\n",
    "        s = \"\" if pd.isna(s) else str(s)\n",
    "\n",
    "    s = s.replace(\"\\n\", \" \").strip()\n",
    "\n",
    "    s = re.sub(r\"\\bкомбиком\\b\", \"комбикорм\", s, flags=re.IGNORECASE)\n",
    "\n",
    "    masks = {}\n",
    "    # оставляем комбикормы номера\n",
    "    def _mask(match):\n",
    "        key = f\"__MASKNO_{len(masks)}__\"\n",
    "        masks[key] = match.group(0)\n",
    "        return key\n",
    "    s = re.sub(r\"№\\s*\\d+\", _mask, s) \n",
    "\n",
    "    s = RE_DATE.sub(\"\", s)\n",
    "    s = RE_LONG_CODE.sub(\"\", s)\n",
    "    s = RE_YEAR.sub(\"\", s)\n",
    "    s = RE_TRAIL_DOTNUM.sub(\"\", s)\n",
    "\n",
    "    s = RE_PERCENT_TAIL.sub(\"\", s)\n",
    "\n",
    "    s = RE_TAILKEYS_AFTER_COMMA.sub(\"\", s)\n",
    "\n",
    "    s = s.replace(\"/\", \" \")\n",
    "\n",
    "    s = RE_SP_BEFORE_PUNCT.sub(r\"\\1\", s)\n",
    "    s = RE_PUNCT_DUP.sub(lambda m: m.group(0)[0], s)\n",
    "    s = RE_MULTI_SPACE.sub(\" \", s).strip(\" ,.;:\")\n",
    "\n",
    "    for key, val in masks.items():\n",
    "        s = s.replace(key, val)\n",
    "\n",
    "    s = s.rstrip(\".,;: \").strip()\n",
    "\n",
    "    return s"
   ]
  },
  {
   "cell_type": "markdown",
   "id": "30021486",
   "metadata": {},
   "source": [
    "## Наши культуры и ингридиенты"
   ]
  },
  {
   "cell_type": "code",
   "execution_count": 222,
   "id": "07be918b",
   "metadata": {},
   "outputs": [],
   "source": [
    "with open('../data/cultures.json', 'r') as f:\n",
    "    cultures = json.load(f)\n",
    "cultures = pd.DataFrame.from_dict(cultures)"
   ]
  },
  {
   "cell_type": "code",
   "execution_count": 223,
   "id": "3168925d",
   "metadata": {},
   "outputs": [],
   "source": [
    "cultures = cultures.drop(columns=['code', 'name_en'])"
   ]
  },
  {
   "cell_type": "code",
   "execution_count": 226,
   "id": "80d696c6",
   "metadata": {},
   "outputs": [
    {
     "data": {
      "text/html": [
       "<div>\n",
       "<style scoped>\n",
       "    .dataframe tbody tr th:only-of-type {\n",
       "        vertical-align: middle;\n",
       "    }\n",
       "\n",
       "    .dataframe tbody tr th {\n",
       "        vertical-align: top;\n",
       "    }\n",
       "\n",
       "    .dataframe thead th {\n",
       "        text-align: right;\n",
       "    }\n",
       "</style>\n",
       "<table border=\"1\" class=\"dataframe\">\n",
       "  <thead>\n",
       "    <tr style=\"text-align: right;\">\n",
       "      <th></th>\n",
       "      <th>name_ru</th>\n",
       "      <th>type</th>\n",
       "    </tr>\n",
       "  </thead>\n",
       "  <tbody>\n",
       "    <tr>\n",
       "      <th>0</th>\n",
       "      <td>Сенаж</td>\n",
       "      <td>feed_form</td>\n",
       "    </tr>\n",
       "    <tr>\n",
       "      <th>1</th>\n",
       "      <td>Силос</td>\n",
       "      <td>feed_form</td>\n",
       "    </tr>\n",
       "    <tr>\n",
       "      <th>2</th>\n",
       "      <td>Сено</td>\n",
       "      <td>feed_form</td>\n",
       "    </tr>\n",
       "    <tr>\n",
       "      <th>3</th>\n",
       "      <td>Солома</td>\n",
       "      <td>feed_form</td>\n",
       "    </tr>\n",
       "    <tr>\n",
       "      <th>4</th>\n",
       "      <td>Концентраты</td>\n",
       "      <td>feed_form</td>\n",
       "    </tr>\n",
       "  </tbody>\n",
       "</table>\n",
       "</div>"
      ],
      "text/plain": [
       "       name_ru       type\n",
       "0        Сенаж  feed_form\n",
       "1        Силос  feed_form\n",
       "2         Сено  feed_form\n",
       "3       Солома  feed_form\n",
       "4  Концентраты  feed_form"
      ]
     },
     "execution_count": 226,
     "metadata": {},
     "output_type": "execute_result"
    }
   ],
   "source": [
    "cultures.head()"
   ]
  },
  {
   "cell_type": "markdown",
   "id": "1fe6c28f",
   "metadata": {},
   "source": [
    "## Тут мы начинаем парсить таблички с ингридиентами"
   ]
  },
  {
   "cell_type": "code",
   "execution_count": null,
   "id": "f7ffd69d",
   "metadata": {},
   "outputs": [
    {
     "name": "stderr",
     "output_type": "stream",
     "text": [
      "/Users/aleksandrandreev/EcoNiva-Cows/venv/lib/python3.13/site-packages/camelot/parsers/base.py:124: UserWarning: page-1 is image-based, camelot only works on text-based pages.\n",
      "  warnings.warn(\n",
      "/Users/aleksandrandreev/EcoNiva-Cows/venv/lib/python3.13/site-packages/camelot/parsers/base.py:124: UserWarning: page-2 is image-based, camelot only works on text-based pages.\n",
      "  warnings.warn(\n"
     ]
    },
    {
     "name": "stdout",
     "output_type": "stream",
     "text": [
      "Ошибка при обработке файла ../data/ЭНА/Рацион Д1 ЖК Озерки 24.04.2024 ЭНАЮ.pdf: list index out of range\n",
      "Обработка завершена успешно!\n"
     ]
    }
   ],
   "source": [
    "def main(list_ingredients):\n",
    "    \"\"\"\n",
    "    Parsing tables\n",
    "    \"\"\"\n",
    "    path = pathlib.Path('../data')\n",
    "    dirs = [x for x in path.iterdir() if x.is_dir()]\n",
    "        \n",
    "    for d in dirs:\n",
    "        files =  [x for x in d.iterdir() if x.suffix == '.pdf']\n",
    "        for f in files:\n",
    "            try:\n",
    "                tables = camelot.read_pdf(\n",
    "                    f,\n",
    "                    pages='all',\n",
    "                    flavor='lattice'\n",
    "                )\n",
    "                data = tables[0]\n",
    "                data_preproc = preprocessor(data)\n",
    "                data_preproc[str(f)]['Ингридиенты'] = data_preproc[str(f)]['Ингридиенты'].map(clean_ingredient)\n",
    "\n",
    "\n",
    "                list_ingredients[f] = data_preproc\n",
    "                \n",
    "            except Exception as e:\n",
    "                print(f\"Ошибка при обработке файла {f}: {e}\")\n",
    "                time.sleep(0.5)  \n",
    "                continue\n",
    "    \n",
    "    print(\"Обработка завершена успешно!\")\n",
    "\n",
    "#dic of pairs <name: table>\n",
    "list_ingredients = {}\n",
    "main(list_ingredients)"
   ]
  },
  {
   "cell_type": "code",
   "execution_count": 220,
   "id": "095cbd54",
   "metadata": {},
   "outputs": [],
   "source": [
    "b = list_ingredients[pathlib.PosixPath('../data/ЭНА/Рацион МТФ Щучье 26.06.2025_ЭНАПБ.pdf')]"
   ]
  },
  {
   "cell_type": "code",
   "execution_count": 231,
   "id": "1a871be2",
   "metadata": {},
   "outputs": [
    {
     "data": {
      "text/html": [
       "<div>\n",
       "<style scoped>\n",
       "    .dataframe tbody tr th:only-of-type {\n",
       "        vertical-align: middle;\n",
       "    }\n",
       "\n",
       "    .dataframe tbody tr th {\n",
       "        vertical-align: top;\n",
       "    }\n",
       "\n",
       "    .dataframe thead th {\n",
       "        text-align: right;\n",
       "    }\n",
       "</style>\n",
       "<table border=\"1\" class=\"dataframe\">\n",
       "  <thead>\n",
       "    <tr style=\"text-align: right;\">\n",
       "      <th></th>\n",
       "      <th>Ингредиенты</th>\n",
       "      <th>СВ %</th>\n",
       "      <th>ГП кг</th>\n",
       "      <th>СВ кг</th>\n",
       "      <th>% ГП</th>\n",
       "      <th>% СВ</th>\n",
       "      <th>₽/Тонна</th>\n",
       "    </tr>\n",
       "  </thead>\n",
       "  <tbody>\n",
       "    <tr>\n",
       "      <th>0</th>\n",
       "      <td>Сено луговое</td>\n",
       "      <td>94,70</td>\n",
       "      <td>0,74</td>\n",
       "      <td>0,70</td>\n",
       "      <td>1,81</td>\n",
       "      <td>3,18</td>\n",
       "      <td>3 000,00</td>\n",
       "    </tr>\n",
       "    <tr>\n",
       "      <th>1</th>\n",
       "      <td>Сенаж</td>\n",
       "      <td>34,70</td>\n",
       "      <td>10,66</td>\n",
       "      <td>3,70</td>\n",
       "      <td>26,16</td>\n",
       "      <td>16,82</td>\n",
       "      <td>4 858,00</td>\n",
       "    </tr>\n",
       "    <tr>\n",
       "      <th>2</th>\n",
       "      <td>Силос</td>\n",
       "      <td>39,80</td>\n",
       "      <td>17,59</td>\n",
       "      <td>7,00</td>\n",
       "      <td>43,16</td>\n",
       "      <td>31,82</td>\n",
       "      <td>3 582,00</td>\n",
       "    </tr>\n",
       "    <tr>\n",
       "      <th>3</th>\n",
       "      <td>Шрот рапсовый</td>\n",
       "      <td>91,80</td>\n",
       "      <td>2,83</td>\n",
       "      <td>2,60</td>\n",
       "      <td>6,95</td>\n",
       "      <td>11,82</td>\n",
       "      <td>19 600,00</td>\n",
       "    </tr>\n",
       "    <tr>\n",
       "      <th>4</th>\n",
       "      <td>Кукуруза</td>\n",
       "      <td>87,54</td>\n",
       "      <td>2,86</td>\n",
       "      <td>2,50</td>\n",
       "      <td>7,01</td>\n",
       "      <td>11,36</td>\n",
       "      <td>14 570,00</td>\n",
       "    </tr>\n",
       "    <tr>\n",
       "      <th>5</th>\n",
       "      <td>комбикорм №13</td>\n",
       "      <td>90,53</td>\n",
       "      <td>6,08</td>\n",
       "      <td>5,50</td>\n",
       "      <td>14,91</td>\n",
       "      <td>25,00</td>\n",
       "      <td>22 891,25</td>\n",
       "    </tr>\n",
       "  </tbody>\n",
       "</table>\n",
       "</div>"
      ],
      "text/plain": [
       "     Ингредиенты   СВ %  ГП кг СВ кг   % ГП   % СВ    ₽/Тонна\n",
       "0   Сено луговое  94,70   0,74  0,70   1,81   3,18   3 000,00\n",
       "1          Сенаж  34,70  10,66  3,70  26,16  16,82   4 858,00\n",
       "2          Силос  39,80  17,59  7,00  43,16  31,82   3 582,00\n",
       "3  Шрот рапсовый  91,80   2,83  2,60   6,95  11,82  19 600,00\n",
       "4       Кукуруза  87,54   2,86  2,50   7,01  11,36  14 570,00\n",
       "5  комбикорм №13  90,53   6,08  5,50  14,91  25,00  22 891,25"
      ]
     },
     "execution_count": 231,
     "metadata": {},
     "output_type": "execute_result"
    }
   ],
   "source": [
    "data = preprocessor(b.df)\n",
    "data['Ингредиенты'] = data['Ингредиенты'].map(clean_ingredient)\n",
    "data"
   ]
  },
  {
   "cell_type": "code",
   "execution_count": null,
   "id": "3292b886",
   "metadata": {},
   "outputs": [],
   "source": []
  }
 ],
 "metadata": {
  "kernelspec": {
   "display_name": "venv",
   "language": "python",
   "name": "python3"
  },
  "language_info": {
   "codemirror_mode": {
    "name": "ipython",
    "version": 3
   },
   "file_extension": ".py",
   "mimetype": "text/x-python",
   "name": "python",
   "nbconvert_exporter": "python",
   "pygments_lexer": "ipython3",
   "version": "3.13.7"
  }
 },
 "nbformat": 4,
 "nbformat_minor": 5
}
